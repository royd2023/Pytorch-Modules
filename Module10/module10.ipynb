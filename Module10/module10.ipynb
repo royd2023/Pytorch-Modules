{
 "cells": [
  {
   "cell_type": "markdown",
   "id": "2ba142c5",
   "metadata": {},
   "source": [
    "Ultralytics YOLO11"
   ]
  }
 ],
 "metadata": {
  "language_info": {
   "name": "python"
  }
 },
 "nbformat": 4,
 "nbformat_minor": 5
}
